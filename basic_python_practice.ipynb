{
 "cells": [
  {
   "cell_type": "code",
   "execution_count": 1,
   "id": "cb070248-3d97-4d77-a9c4-be79991c6eaa",
   "metadata": {},
   "outputs": [
    {
     "data": {
      "text/plain": [
       "'3.12.2 (tags/v3.12.2:6abddd9, Feb  6 2024, 21:26:36) [MSC v.1937 64 bit (AMD64)]'"
      ]
     },
     "execution_count": 1,
     "metadata": {},
     "output_type": "execute_result"
    }
   ],
   "source": [
    "# 7-1-25\n",
    "import sys\n",
    "sys.version"
   ]
  },
  {
   "cell_type": "code",
   "execution_count": 2,
   "id": "e250b6be-b504-490c-998c-507e6c47c206",
   "metadata": {},
   "outputs": [
    {
     "data": {
      "text/plain": [
       "['False',\n",
       " 'None',\n",
       " 'True',\n",
       " 'and',\n",
       " 'as',\n",
       " 'assert',\n",
       " 'async',\n",
       " 'await',\n",
       " 'break',\n",
       " 'class',\n",
       " 'continue',\n",
       " 'def',\n",
       " 'del',\n",
       " 'elif',\n",
       " 'else',\n",
       " 'except',\n",
       " 'finally',\n",
       " 'for',\n",
       " 'from',\n",
       " 'global',\n",
       " 'if',\n",
       " 'import',\n",
       " 'in',\n",
       " 'is',\n",
       " 'lambda',\n",
       " 'nonlocal',\n",
       " 'not',\n",
       " 'or',\n",
       " 'pass',\n",
       " 'raise',\n",
       " 'return',\n",
       " 'try',\n",
       " 'while',\n",
       " 'with',\n",
       " 'yield']"
      ]
     },
     "execution_count": 2,
     "metadata": {},
     "output_type": "execute_result"
    }
   ],
   "source": [
    "import keyword     #immporting keywords\n",
    "keyword.kwlist"
   ]
  },
  {
   "cell_type": "code",
   "execution_count": 3,
   "id": "b2ce3000-47bd-423f-bf15-3efdc415fc5d",
   "metadata": {},
   "outputs": [
    {
     "data": {
      "text/plain": [
       "35"
      ]
     },
     "execution_count": 3,
     "metadata": {},
     "output_type": "execute_result"
    }
   ],
   "source": [
    "len(keyword.kwlist)      #calculating how many keywords are there"
   ]
  },
  {
   "cell_type": "markdown",
   "id": "0df962b1-45e2-4e44-a376-60c6b1e8b32f",
   "metadata": {},
   "source": [
    "## Variables\n",
    "- variable_name=number"
   ]
  },
  {
   "cell_type": "code",
   "execution_count": 4,
   "id": "c363fede-ab7d-4f04-8d3d-974f7a852f16",
   "metadata": {},
   "outputs": [
    {
     "data": {
      "text/plain": [
       "10"
      ]
     },
     "execution_count": 4,
     "metadata": {},
     "output_type": "execute_result"
    }
   ],
   "source": [
    "x=10   #assigning variable x to the value 10\n",
    "x"
   ]
  },
  {
   "cell_type": "code",
   "execution_count": 5,
   "id": "3a1f170f-fbdc-433f-ba8b-fb0f61322bb9",
   "metadata": {},
   "outputs": [
    {
     "data": {
      "text/plain": [
       "30"
      ]
     },
     "execution_count": 5,
     "metadata": {},
     "output_type": "execute_result"
    }
   ],
   "source": [
    "a=10\n",
    "b=20\n",
    "a+b"
   ]
  },
  {
   "cell_type": "code",
   "execution_count": 6,
   "id": "844735c8-4c4c-4836-a398-03e03db26140",
   "metadata": {},
   "outputs": [
    {
     "data": {
      "text/plain": [
       "10.5"
      ]
     },
     "execution_count": 6,
     "metadata": {},
     "output_type": "execute_result"
    }
   ],
   "source": [
    "a=10.5\n",
    "a"
   ]
  },
  {
   "cell_type": "code",
   "execution_count": 7,
   "id": "ee9adfa1-a17d-467c-b5e6-6fba4bb2e94f",
   "metadata": {},
   "outputs": [
    {
     "data": {
      "text/plain": [
       "float"
      ]
     },
     "execution_count": 7,
     "metadata": {},
     "output_type": "execute_result"
    }
   ],
   "source": [
    "type(a)    #datatype of a"
   ]
  },
  {
   "cell_type": "code",
   "execution_count": 8,
   "id": "d7640962-0aff-4df5-b6cf-d4bfea9202ec",
   "metadata": {},
   "outputs": [
    {
     "data": {
      "text/plain": [
       "1474876497520"
      ]
     },
     "execution_count": 8,
     "metadata": {},
     "output_type": "execute_result"
    }
   ],
   "source": [
    "id(a)      #address of a"
   ]
  },
  {
   "cell_type": "code",
   "execution_count": 9,
   "id": "d2825831-ae96-45cb-ba3a-09323e3148c2",
   "metadata": {},
   "outputs": [
    {
     "data": {
      "text/plain": [
       "30"
      ]
     },
     "execution_count": 9,
     "metadata": {},
     "output_type": "execute_result"
    }
   ],
   "source": [
    "a=10\n",
    "b=20\n",
    "c=a+b\n",
    "c"
   ]
  },
  {
   "cell_type": "code",
   "execution_count": 10,
   "id": "e69f80cc-57b2-45a4-a62d-cc17d0860115",
   "metadata": {},
   "outputs": [
    {
     "data": {
      "text/plain": [
       "(10+5j)"
      ]
     },
     "execution_count": 10,
     "metadata": {},
     "output_type": "execute_result"
    }
   ],
   "source": [
    "a=10+5j    #complex datatype\n",
    "a"
   ]
  },
  {
   "cell_type": "code",
   "execution_count": 11,
   "id": "218b9506-1faa-403c-a8dd-88a2ad62b05e",
   "metadata": {},
   "outputs": [
    {
     "name": "stdout",
     "output_type": "stream",
     "text": [
      "32\n"
     ]
    }
   ],
   "source": [
    "x=12     #storing and printing a value\n",
    "y=20\n",
    "print(x+y)"
   ]
  },
  {
   "cell_type": "code",
   "execution_count": 12,
   "id": "9df9077a-fcf8-4375-a113-1255a3e22e91",
   "metadata": {},
   "outputs": [
    {
     "name": "stdout",
     "output_type": "stream",
     "text": [
      "50\n"
     ]
    }
   ],
   "source": [
    "p=20      #using variables in expressions\n",
    "q=30\n",
    "sum=p+q\n",
    "print(sum)"
   ]
  },
  {
   "cell_type": "code",
   "execution_count": 13,
   "id": "cd6e3d63-0719-4f33-99aa-c2bb592d48f7",
   "metadata": {},
   "outputs": [
    {
     "name": "stdout",
     "output_type": "stream",
     "text": [
      "60.0\n",
      "70.0\n"
     ]
    }
   ],
   "source": [
    "#changing the value of a variable\n",
    "b=10     #initial value\n",
    "h=12\n",
    "print(0.5*b*h)\n",
    "b=14     #changing the value\n",
    "h=10\n",
    "print(0.5*b*h)"
   ]
  },
  {
   "cell_type": "markdown",
   "id": "6cf9395b-4f05-4e73-99fe-b93c97ae204c",
   "metadata": {},
   "source": [
    "### rules to define variables\n",
    "- variable name cannot used as a digit\n",
    "- No special characters are allowed and only underscore is allowed while defining a variable name\n",
    "- no space is considered while defining a variable name\n",
    "- variable name cannot be used as a keyword\n",
    "- variable names are case-sensitive\n",
    "- no length limit"
   ]
  },
  {
   "cell_type": "code",
   "execution_count": 14,
   "id": "fc6f7d34-2a89-4148-9980-3cf98f760737",
   "metadata": {},
   "outputs": [
    {
     "ename": "SyntaxError",
     "evalue": "invalid decimal literal (637913282.py, line 2)",
     "output_type": "error",
     "traceback": [
      "\u001b[1;36m  Cell \u001b[1;32mIn[14], line 2\u001b[1;36m\u001b[0m\n\u001b[1;33m    1v=10\u001b[0m\n\u001b[1;37m    ^\u001b[0m\n\u001b[1;31mSyntaxError\u001b[0m\u001b[1;31m:\u001b[0m invalid decimal literal\n"
     ]
    }
   ],
   "source": [
    "#rule-1\n",
    "1v=10\n",
    "1v"
   ]
  },
  {
   "cell_type": "code",
   "execution_count": 15,
   "id": "3d9835da-7ff8-4823-b407-f8ae4e9d807e",
   "metadata": {},
   "outputs": [
    {
     "ename": "SyntaxError",
     "evalue": "invalid syntax (349857171.py, line 3)",
     "output_type": "error",
     "traceback": [
      "\u001b[1;36m  Cell \u001b[1;32mIn[15], line 3\u001b[1;36m\u001b[0m\n\u001b[1;33m    n@\u001b[0m\n\u001b[1;37m      ^\u001b[0m\n\u001b[1;31mSyntaxError\u001b[0m\u001b[1;31m:\u001b[0m invalid syntax\n"
     ]
    }
   ],
   "source": [
    "#rule-2\n",
    "n@='naresh'\n",
    "n@"
   ]
  },
  {
   "cell_type": "code",
   "execution_count": 16,
   "id": "c72a6aa2-4d3d-4c4d-9a47-32fd97826f18",
   "metadata": {},
   "outputs": [
    {
     "data": {
      "text/plain": [
       "'naresh'"
      ]
     },
     "execution_count": 16,
     "metadata": {},
     "output_type": "execute_result"
    }
   ],
   "source": [
    "n_='naresh'\n",
    "n_"
   ]
  },
  {
   "cell_type": "code",
   "execution_count": 17,
   "id": "edc9214f-1e92-43b1-9498-d3af031759c1",
   "metadata": {},
   "outputs": [
    {
     "data": {
      "text/plain": [
       "'hi'"
      ]
     },
     "execution_count": 17,
     "metadata": {},
     "output_type": "execute_result"
    }
   ],
   "source": [
    "#rule-3\n",
    "greet ='hi'\n",
    "greet  "
   ]
  },
  {
   "cell_type": "code",
   "execution_count": 18,
   "id": "74cdc23c-59f0-4863-a68a-e76615ca9e21",
   "metadata": {},
   "outputs": [
    {
     "ename": "SyntaxError",
     "evalue": "invalid syntax (1295199927.py, line 2)",
     "output_type": "error",
     "traceback": [
      "\u001b[1;36m  Cell \u001b[1;32mIn[18], line 2\u001b[1;36m\u001b[0m\n\u001b[1;33m    def='hello'\u001b[0m\n\u001b[1;37m       ^\u001b[0m\n\u001b[1;31mSyntaxError\u001b[0m\u001b[1;31m:\u001b[0m invalid syntax\n"
     ]
    }
   ],
   "source": [
    "#rule-4\n",
    "def='hello'\n",
    "def"
   ]
  },
  {
   "cell_type": "code",
   "execution_count": 19,
   "id": "f6af2932-67f9-40da-9a8b-bbb5700f685e",
   "metadata": {},
   "outputs": [
    {
     "ename": "NameError",
     "evalue": "name 'name' is not defined",
     "output_type": "error",
     "traceback": [
      "\u001b[1;31m---------------------------------------------------------------------------\u001b[0m",
      "\u001b[1;31mNameError\u001b[0m                                 Traceback (most recent call last)",
      "Cell \u001b[1;32mIn[19], line 3\u001b[0m\n\u001b[0;32m      1\u001b[0m \u001b[38;5;66;03m#rule-5\u001b[39;00m\n\u001b[0;32m      2\u001b[0m Name\u001b[38;5;241m=\u001b[39m\u001b[38;5;124m'\u001b[39m\u001b[38;5;124mNareshit\u001b[39m\u001b[38;5;124m'\u001b[39m\n\u001b[1;32m----> 3\u001b[0m \u001b[43mname\u001b[49m\n",
      "\u001b[1;31mNameError\u001b[0m: name 'name' is not defined"
     ]
    }
   ],
   "source": [
    "#rule-5\n",
    "Name='Nareshit'\n",
    "name"
   ]
  },
  {
   "cell_type": "code",
   "execution_count": null,
   "id": "f3111971-8496-47de-b671-d0e32b157051",
   "metadata": {},
   "outputs": [],
   "source": [
    "#print function\n",
    "a=10\n",
    "b=20\n",
    "c=30\n",
    "print(a)\n",
    "print(b)\n",
    "print(c)\n",
    "print(a,b,c)"
   ]
  },
  {
   "cell_type": "code",
   "execution_count": 20,
   "id": "69f9aa80-653b-43d3-b9a8-c68e56d657a5",
   "metadata": {},
   "outputs": [
    {
     "name": "stdout",
     "output_type": "stream",
     "text": [
      "My Name is ramu and my rollno is 10 and i got 80\n"
     ]
    }
   ],
   "source": [
    "name='ramu'\n",
    "rollno=10\n",
    "marks=80\n",
    "print('My Name is {} and my rollno is {} and i got {}'.format(name,rollno,marks))"
   ]
  },
  {
   "cell_type": "code",
   "execution_count": 21,
   "id": "38f9409e-701c-410d-9508-8d12bb300eba",
   "metadata": {},
   "outputs": [
    {
     "name": "stdout",
     "output_type": "stream",
     "text": [
      "I have enrolled in Nareshit and the course name is full stack data science\n"
     ]
    }
   ],
   "source": [
    "Name='Nareshit'\n",
    "course='full stack data science'\n",
    "print('I have enrolled in {} and the course name is {}'.format(Name,course))"
   ]
  },
  {
   "cell_type": "code",
   "execution_count": 22,
   "id": "262059d7-07b6-4624-b95e-72fbf0f38331",
   "metadata": {},
   "outputs": [
    {
     "name": "stdout",
     "output_type": "stream",
     "text": [
      "My name is john doe and i am from it department and my monthly salary is 40000\n"
     ]
    }
   ],
   "source": [
    "name='john doe'\n",
    "department='it'\n",
    "salary=40000\n",
    "print(f'My name is {name} and i am from {department} department and my monthly salary is {salary}')"
   ]
  },
  {
   "cell_type": "code",
   "execution_count": 23,
   "id": "35ec4e5a-3ffb-49df-a835-18fb68464d59",
   "metadata": {},
   "outputs": [
    {
     "name": "stdout",
     "output_type": "stream",
     "text": [
      "The sum of 10 and 20 is 30\n"
     ]
    }
   ],
   "source": [
    "num1=10\n",
    "num2=20\n",
    "add=num1+num2\n",
    "print('The sum of',num1,'and',num2,'is',add)"
   ]
  },
  {
   "cell_type": "code",
   "execution_count": 24,
   "id": "6a55eba9-6874-4716-9316-2d7953b12ca1",
   "metadata": {},
   "outputs": [
    {
     "name": "stdout",
     "output_type": "stream",
     "text": [
      "the average of the 3 numbers is 63.333333333333336\n",
      "the average of 20,30,40 is 63.333333333333336\n"
     ]
    }
   ],
   "source": [
    "num1=20\n",
    "num2=30\n",
    "num3=40\n",
    "average=num1+num2+num3/3\n",
    "print(\"the average of the 3 numbers is {}\".format(average))\n",
    "print(\"the average of {},{},{} is {}\".format(num1,num2,num3,average))"
   ]
  },
  {
   "cell_type": "markdown",
   "id": "4f5352e8-5ca9-4992-9e44-66ebfcb2efbc",
   "metadata": {},
   "source": [
    "### end statement"
   ]
  },
  {
   "cell_type": "code",
   "execution_count": 25,
   "id": "1b7a273c-ba33-4cef-95b3-0d6f5cf69e35",
   "metadata": {},
   "outputs": [
    {
     "name": "stdout",
     "output_type": "stream",
     "text": [
      "hello what's up\n"
     ]
    }
   ],
   "source": [
    "print(\"hello\",end=\" \")\n",
    "print(\"what's up\")"
   ]
  },
  {
   "cell_type": "code",
   "execution_count": 26,
   "id": "268c2a2b-d1bc-409c-bd35-3773ef358b63",
   "metadata": {},
   "outputs": [
    {
     "name": "stdout",
     "output_type": "stream",
     "text": [
      "hello happy bhogi\n"
     ]
    }
   ],
   "source": [
    "print(\"hello\",end=' ')\n",
    "print('happy bhogi')"
   ]
  },
  {
   "cell_type": "code",
   "execution_count": 27,
   "id": "3d850c49-bede-499d-8713-9ea8d098d026",
   "metadata": {},
   "outputs": [
    {
     "name": "stdout",
     "output_type": "stream",
     "text": [
      "hey buddy! howzz the data science demo\n"
     ]
    }
   ],
   "source": [
    "print('hey buddy!',end=' ')\n",
    "print('howzz the data science demo')"
   ]
  },
  {
   "cell_type": "markdown",
   "id": "88004127-2f72-4208-9c4e-0e3166730ee6",
   "metadata": {},
   "source": [
    "### separator"
   ]
  },
  {
   "cell_type": "code",
   "execution_count": 28,
   "id": "0d573450-bffa-442d-955e-0de279fc9252",
   "metadata": {},
   "outputs": [
    {
     "name": "stdout",
     "output_type": "stream",
     "text": [
      "hello world && this is chitti 2.0 reloaded\n"
     ]
    }
   ],
   "source": [
    "print('hello world','this is chitti 2.0 reloaded',sep=' && ')"
   ]
  },
  {
   "cell_type": "code",
   "execution_count": 29,
   "id": "d0103f6e-7cb6-4111-a17c-862949963d4b",
   "metadata": {},
   "outputs": [
    {
     "name": "stdout",
     "output_type": "stream",
     "text": [
      "1 8,1,8\n"
     ]
    }
   ],
   "source": [
    "print(1,8,end=',')\n",
    "print(1,8,sep=',')"
   ]
  },
  {
   "cell_type": "markdown",
   "id": "391b085a-164d-4398-9656-27b55968d31a",
   "metadata": {},
   "source": [
    "# Datatypes(Primitive)\n",
    "- int\n",
    "- float\n",
    "- string\n",
    "- complex\n",
    "- bool"
   ]
  },
  {
   "cell_type": "code",
   "execution_count": 30,
   "id": "0a5d037e-c1e3-4041-bc88-24d870c7411e",
   "metadata": {},
   "outputs": [
    {
     "data": {
      "text/plain": [
       "10"
      ]
     },
     "execution_count": 30,
     "metadata": {},
     "output_type": "execute_result"
    }
   ],
   "source": [
    "#int datatype\n",
    "x=10\n",
    "x"
   ]
  },
  {
   "cell_type": "code",
   "execution_count": 32,
   "id": "b0555989-60f3-4493-8f66-41f5459ef9d6",
   "metadata": {},
   "outputs": [
    {
     "data": {
      "text/plain": [
       "int"
      ]
     },
     "execution_count": 32,
     "metadata": {},
     "output_type": "execute_result"
    }
   ],
   "source": [
    "type(x)"
   ]
  },
  {
   "cell_type": "code",
   "execution_count": 33,
   "id": "59292d4c-693d-4bd2-9840-59a9e47cf5d9",
   "metadata": {},
   "outputs": [
    {
     "name": "stdout",
     "output_type": "stream",
     "text": [
      "20\n",
      "<class 'int'>\n"
     ]
    }
   ],
   "source": [
    "x=20\n",
    "print(x)\n",
    "print(type(x))"
   ]
  },
  {
   "cell_type": "code",
   "execution_count": 34,
   "id": "e1aabfe2-95f4-4658-8e62-cfd83071d1f4",
   "metadata": {},
   "outputs": [
    {
     "data": {
      "text/plain": [
       "10.5"
      ]
     },
     "execution_count": 34,
     "metadata": {},
     "output_type": "execute_result"
    }
   ],
   "source": [
    "#float datatype\n",
    "a=10.5\n",
    "a"
   ]
  },
  {
   "cell_type": "code",
   "execution_count": 35,
   "id": "4f79dc24-4724-444a-839a-0e368c77c9f1",
   "metadata": {},
   "outputs": [
    {
     "data": {
      "text/plain": [
       "float"
      ]
     },
     "execution_count": 35,
     "metadata": {},
     "output_type": "execute_result"
    }
   ],
   "source": [
    "type(a)"
   ]
  },
  {
   "cell_type": "code",
   "execution_count": 36,
   "id": "51ae336d-1a00-414f-8a60-63e0dcc4b8ac",
   "metadata": {},
   "outputs": [
    {
     "name": "stdout",
     "output_type": "stream",
     "text": [
      "10\n",
      "12.5\n",
      "hello\n",
      "True\n",
      "(10+12j)\n"
     ]
    }
   ],
   "source": [
    "#datatypes\n",
    "a=10   #int\n",
    "b=12.5  #float\n",
    "c='hello'  #string\n",
    "d=True     #bool\n",
    "e=10+12j   #complex\n",
    "print(a)\n",
    "print(b)\n",
    "print(c)\n",
    "print(d)\n",
    "print(e)"
   ]
  },
  {
   "cell_type": "code",
   "execution_count": 37,
   "id": "5ec6da7f-95e9-49a8-b83f-bbb9f2c252c2",
   "metadata": {},
   "outputs": [
    {
     "data": {
      "text/plain": [
       "23000.0"
      ]
     },
     "execution_count": 37,
     "metadata": {},
     "output_type": "execute_result"
    }
   ],
   "source": [
    "f2=2.3e4\n",
    "f2"
   ]
  },
  {
   "cell_type": "code",
   "execution_count": 38,
   "id": "f97a752a-7220-4ef4-8edb-95f7ac601f40",
   "metadata": {},
   "outputs": [
    {
     "data": {
      "text/plain": [
       "True"
      ]
     },
     "execution_count": 38,
     "metadata": {},
     "output_type": "execute_result"
    }
   ],
   "source": [
    "#boolean datatype\n",
    "True"
   ]
  },
  {
   "cell_type": "code",
   "execution_count": 39,
   "id": "dfe417a6-247f-4451-ac25-969bb65bb414",
   "metadata": {},
   "outputs": [
    {
     "ename": "TypeError",
     "evalue": "unsupported operand type(s) for +: 'int' and 'NoneType'",
     "output_type": "error",
     "traceback": [
      "\u001b[1;31m---------------------------------------------------------------------------\u001b[0m",
      "\u001b[1;31mTypeError\u001b[0m                                 Traceback (most recent call last)",
      "Cell \u001b[1;32mIn[39], line 1\u001b[0m\n\u001b[1;32m----> 1\u001b[0m \u001b[38;5;28;43;01mTrue\u001b[39;49;00m\u001b[38;5;241;43m+\u001b[39;49m\u001b[38;5;28;43;01mFalse\u001b[39;49;00m\u001b[38;5;241;43m+\u001b[39;49m\u001b[38;5;28;43;01mNone\u001b[39;49;00m\n",
      "\u001b[1;31mTypeError\u001b[0m: unsupported operand type(s) for +: 'int' and 'NoneType'"
     ]
    }
   ],
   "source": [
    "True+False+None"
   ]
  },
  {
   "cell_type": "code",
   "execution_count": 40,
   "id": "49748b99-3172-482f-8526-af179a114043",
   "metadata": {},
   "outputs": [
    {
     "data": {
      "text/plain": [
       "1"
      ]
     },
     "execution_count": 40,
     "metadata": {},
     "output_type": "execute_result"
    }
   ],
   "source": [
    "True+False"
   ]
  },
  {
   "cell_type": "code",
   "execution_count": 41,
   "id": "8b15c368-35de-45bf-9576-378d34751b8b",
   "metadata": {},
   "outputs": [
    {
     "data": {
      "text/plain": [
       "2"
      ]
     },
     "execution_count": 41,
     "metadata": {},
     "output_type": "execute_result"
    }
   ],
   "source": [
    "True+True"
   ]
  },
  {
   "cell_type": "code",
   "execution_count": 42,
   "id": "896f3cc5-de9d-40fa-a0b5-6fb8643da738",
   "metadata": {},
   "outputs": [
    {
     "data": {
      "text/plain": [
       "0"
      ]
     },
     "execution_count": 42,
     "metadata": {},
     "output_type": "execute_result"
    }
   ],
   "source": [
    "False+False"
   ]
  },
  {
   "cell_type": "code",
   "execution_count": 43,
   "id": "f05a64aa-86f6-423a-bf7d-4ae8eec4a764",
   "metadata": {},
   "outputs": [
    {
     "data": {
      "text/plain": [
       "2"
      ]
     },
     "execution_count": 43,
     "metadata": {},
     "output_type": "execute_result"
    }
   ],
   "source": [
    "True+False+True"
   ]
  },
  {
   "cell_type": "code",
   "execution_count": 44,
   "id": "11a5eef8-c235-4056-abb0-78a82f78181e",
   "metadata": {},
   "outputs": [
    {
     "data": {
      "text/plain": [
       "1"
      ]
     },
     "execution_count": 44,
     "metadata": {},
     "output_type": "execute_result"
    }
   ],
   "source": [
    "False+True+False"
   ]
  },
  {
   "cell_type": "code",
   "execution_count": 45,
   "id": "a0284bc1-bc81-42fb-81d3-114ab7644293",
   "metadata": {},
   "outputs": [
    {
     "data": {
      "text/plain": [
       "1"
      ]
     },
     "execution_count": 45,
     "metadata": {},
     "output_type": "execute_result"
    }
   ],
   "source": [
    "True+False*True-False"
   ]
  },
  {
   "cell_type": "code",
   "execution_count": 46,
   "id": "a4afec62-cd0a-4f70-b4c3-c9173a969cce",
   "metadata": {},
   "outputs": [
    {
     "data": {
      "text/plain": [
       "1"
      ]
     },
     "execution_count": 46,
     "metadata": {},
     "output_type": "execute_result"
    }
   ],
   "source": [
    "True+(False*True)-False"
   ]
  },
  {
   "cell_type": "code",
   "execution_count": 47,
   "id": "bcbd48ba-472f-4483-aead-1f4a42f23556",
   "metadata": {},
   "outputs": [
    {
     "data": {
      "text/plain": [
       "(10+5j)"
      ]
     },
     "execution_count": 47,
     "metadata": {},
     "output_type": "execute_result"
    }
   ],
   "source": [
    "#complex datatype\n",
    "a=10+5j\n",
    "a"
   ]
  },
  {
   "cell_type": "code",
   "execution_count": 48,
   "id": "38c333a1-f98b-463e-9918-f795501f63ae",
   "metadata": {},
   "outputs": [
    {
     "data": {
      "text/plain": [
       "7j"
      ]
     },
     "execution_count": 48,
     "metadata": {},
     "output_type": "execute_result"
    }
   ],
   "source": [
    "b=0+7j\n",
    "b"
   ]
  },
  {
   "cell_type": "code",
   "execution_count": 49,
   "id": "08d92dc6-49be-48ee-a597-3c124527567c",
   "metadata": {},
   "outputs": [
    {
     "data": {
      "text/plain": [
       "'hi'"
      ]
     },
     "execution_count": 49,
     "metadata": {},
     "output_type": "execute_result"
    }
   ],
   "source": [
    "#string datatype\n",
    "s='hi'\n",
    "s"
   ]
  },
  {
   "cell_type": "code",
   "execution_count": 50,
   "id": "d8588367-c5c6-45e0-871d-48bb8511c5a0",
   "metadata": {},
   "outputs": [
    {
     "data": {
      "text/plain": [
       "'john'"
      ]
     },
     "execution_count": 50,
     "metadata": {},
     "output_type": "execute_result"
    }
   ],
   "source": [
    "name='john'\n",
    "name"
   ]
  },
  {
   "cell_type": "code",
   "execution_count": 51,
   "id": "382a1ed7-53c8-48ce-a6d4-0f895f2c2576",
   "metadata": {},
   "outputs": [
    {
     "ename": "SyntaxError",
     "evalue": "unterminated string literal (detected at line 1) (4178421612.py, line 1)",
     "output_type": "error",
     "traceback": [
      "\u001b[1;36m  Cell \u001b[1;32mIn[51], line 1\u001b[1;36m\u001b[0m\n\u001b[1;33m    s1='naresh\u001b[0m\n\u001b[1;37m       ^\u001b[0m\n\u001b[1;31mSyntaxError\u001b[0m\u001b[1;31m:\u001b[0m unterminated string literal (detected at line 1)\n"
     ]
    }
   ],
   "source": [
    "s1='naresh\n",
    "    it'\n",
    "s1"
   ]
  },
  {
   "cell_type": "code",
   "execution_count": 52,
   "id": "5a8706ba-fc47-4976-b6a3-93a8fe1f1cfb",
   "metadata": {},
   "outputs": [
    {
     "ename": "SyntaxError",
     "evalue": "unterminated string literal (detected at line 1) (596438874.py, line 1)",
     "output_type": "error",
     "traceback": [
      "\u001b[1;36m  Cell \u001b[1;32mIn[52], line 1\u001b[1;36m\u001b[0m\n\u001b[1;33m    s2=\"naresh\u001b[0m\n\u001b[1;37m       ^\u001b[0m\n\u001b[1;31mSyntaxError\u001b[0m\u001b[1;31m:\u001b[0m unterminated string literal (detected at line 1)\n"
     ]
    }
   ],
   "source": [
    "s2=\"naresh\n",
    "    it\"\n",
    "s2"
   ]
  },
  {
   "cell_type": "code",
   "execution_count": 53,
   "id": "5137ad8d-0672-4e84-a763-8fd20cbe630f",
   "metadata": {},
   "outputs": [
    {
     "data": {
      "text/plain": [
       "'nareshit\\n    technologies'"
      ]
     },
     "execution_count": 53,
     "metadata": {},
     "output_type": "execute_result"
    }
   ],
   "source": [
    "s3='''nareshit\n",
    "    technologies'''\n",
    "s3"
   ]
  },
  {
   "cell_type": "code",
   "execution_count": 54,
   "id": "6703ed71-048e-49ee-af46-ba2d25e37802",
   "metadata": {},
   "outputs": [
    {
     "data": {
      "text/plain": [
       "'nareshit'"
      ]
     },
     "execution_count": 54,
     "metadata": {},
     "output_type": "execute_result"
    }
   ],
   "source": [
    "#string indexing(forward and backward indexing)\n",
    "s='nareshit'\n",
    "s"
   ]
  },
  {
   "cell_type": "code",
   "execution_count": 55,
   "id": "bef7ea02-9d1f-4a3a-b7db-27143a14daf3",
   "metadata": {},
   "outputs": [
    {
     "data": {
      "text/plain": [
       "'a'"
      ]
     },
     "execution_count": 55,
     "metadata": {},
     "output_type": "execute_result"
    }
   ],
   "source": [
    "s[1]"
   ]
  },
  {
   "cell_type": "code",
   "execution_count": 56,
   "id": "23290ed2-bf29-4c7a-a935-23d85b8e106d",
   "metadata": {},
   "outputs": [
    {
     "data": {
      "text/plain": [
       "'s'"
      ]
     },
     "execution_count": 56,
     "metadata": {},
     "output_type": "execute_result"
    }
   ],
   "source": [
    "s[4]"
   ]
  },
  {
   "cell_type": "code",
   "execution_count": 57,
   "id": "eb141c3d-1779-4673-8374-bd4797b2e10d",
   "metadata": {},
   "outputs": [
    {
     "data": {
      "text/plain": [
       "'i'"
      ]
     },
     "execution_count": 57,
     "metadata": {},
     "output_type": "execute_result"
    }
   ],
   "source": [
    "s[6]"
   ]
  },
  {
   "cell_type": "code",
   "execution_count": 58,
   "id": "2136eb72-bee4-4b3f-a578-49f93f9caaff",
   "metadata": {},
   "outputs": [
    {
     "data": {
      "text/plain": [
       "'t'"
      ]
     },
     "execution_count": 58,
     "metadata": {},
     "output_type": "execute_result"
    }
   ],
   "source": [
    "s[-1]"
   ]
  },
  {
   "cell_type": "code",
   "execution_count": 59,
   "id": "6d8a169c-d16c-40c3-9315-9de298385cc0",
   "metadata": {},
   "outputs": [
    {
     "data": {
      "text/plain": [
       "'s'"
      ]
     },
     "execution_count": 59,
     "metadata": {},
     "output_type": "execute_result"
    }
   ],
   "source": [
    "s[-4]"
   ]
  },
  {
   "cell_type": "code",
   "execution_count": 60,
   "id": "b792b0b3-0a42-4ce2-8172-0c1361583b90",
   "metadata": {},
   "outputs": [
    {
     "data": {
      "text/plain": [
       "'n'"
      ]
     },
     "execution_count": 60,
     "metadata": {},
     "output_type": "execute_result"
    }
   ],
   "source": [
    "s[0]"
   ]
  },
  {
   "cell_type": "code",
   "execution_count": 61,
   "id": "2268263e-9327-49b9-8f37-b73aba7bd0b9",
   "metadata": {},
   "outputs": [
    {
     "data": {
      "text/plain": [
       "'nar'"
      ]
     },
     "execution_count": 61,
     "metadata": {},
     "output_type": "execute_result"
    }
   ],
   "source": [
    "#string slicing\n",
    "s[0:3]"
   ]
  },
  {
   "cell_type": "code",
   "execution_count": 62,
   "id": "c73cc045-2083-4fe2-a269-bee47cfd22ac",
   "metadata": {},
   "outputs": [
    {
     "data": {
      "text/plain": [
       "'are'"
      ]
     },
     "execution_count": 62,
     "metadata": {},
     "output_type": "execute_result"
    }
   ],
   "source": [
    "s[1:4]"
   ]
  },
  {
   "cell_type": "code",
   "execution_count": 63,
   "id": "42ab07ac-53b6-4ac1-8ade-d49b803ec101",
   "metadata": {},
   "outputs": [
    {
     "data": {
      "text/plain": [
       "'resh'"
      ]
     },
     "execution_count": 63,
     "metadata": {},
     "output_type": "execute_result"
    }
   ],
   "source": [
    "s[2:6]"
   ]
  },
  {
   "cell_type": "code",
   "execution_count": 64,
   "id": "bd1bc75b-0302-4ffc-bf90-8583f276af41",
   "metadata": {},
   "outputs": [
    {
     "data": {
      "text/plain": [
       "'esh'"
      ]
     },
     "execution_count": 64,
     "metadata": {},
     "output_type": "execute_result"
    }
   ],
   "source": [
    "s[-5:-2]"
   ]
  },
  {
   "cell_type": "code",
   "execution_count": 65,
   "id": "a48c917e-c3db-414a-aa7e-c30e464995c8",
   "metadata": {},
   "outputs": [
    {
     "data": {
      "text/plain": [
       "'shi'"
      ]
     },
     "execution_count": 65,
     "metadata": {},
     "output_type": "execute_result"
    }
   ],
   "source": [
    "s[-4:-1]"
   ]
  },
  {
   "cell_type": "code",
   "execution_count": 66,
   "id": "3682afd8-ba22-4649-a258-59fe31e2dcc1",
   "metadata": {},
   "outputs": [
    {
     "data": {
      "text/plain": [
       "'nrs'"
      ]
     },
     "execution_count": 66,
     "metadata": {},
     "output_type": "execute_result"
    }
   ],
   "source": [
    "s[0:5:2]"
   ]
  },
  {
   "cell_type": "code",
   "execution_count": 67,
   "id": "88b5b2ee-07ba-44f7-8ca8-c8dfa88e5cd5",
   "metadata": {},
   "outputs": [
    {
     "name": "stdout",
     "output_type": "stream",
     "text": [
      "john doe\n"
     ]
    }
   ],
   "source": [
    "#string concatenation\n",
    "first_name='john'\n",
    "last_name='doe'\n",
    "space=\" \"\n",
    "full_name=first_name+space+last_name\n",
    "print(full_name)"
   ]
  },
  {
   "cell_type": "code",
   "execution_count": 68,
   "id": "0247b5c3-c98d-4a66-9368-c3f9d36bb311",
   "metadata": {},
   "outputs": [
    {
     "name": "stdout",
     "output_type": "stream",
     "text": [
      "jack sparrow\n"
     ]
    }
   ],
   "source": [
    "first_name='jack'\n",
    "last_name='sparrow'\n",
    "print(first_name+' '+last_name)"
   ]
  },
  {
   "cell_type": "code",
   "execution_count": 69,
   "id": "5c1c001a-5edf-464b-967f-fbb23cc69500",
   "metadata": {},
   "outputs": [
    {
     "name": "stdout",
     "output_type": "stream",
     "text": [
      "hello how are you\n"
     ]
    }
   ],
   "source": [
    "s='hello'\n",
    "s1='how are you'\n",
    "print(s+' '+s1)"
   ]
  },
  {
   "cell_type": "code",
   "execution_count": 70,
   "id": "e85e5947-7c7d-4db4-aceb-2f358cb46a27",
   "metadata": {},
   "outputs": [
    {
     "name": "stdout",
     "output_type": "stream",
     "text": [
      "This is full stack data science course\n"
     ]
    }
   ],
   "source": [
    "#string functions\n",
    "#capitalize\n",
    "s='this is full stack data science course'\n",
    "print(s.capitalize())"
   ]
  },
  {
   "cell_type": "code",
   "execution_count": 71,
   "id": "abee8759-4b1e-40e4-bf51-b6e6df846a02",
   "metadata": {},
   "outputs": [
    {
     "name": "stdout",
     "output_type": "stream",
     "text": [
      "Do you like this data science course\n"
     ]
    }
   ],
   "source": [
    "i='do you like this data science course'\n",
    "print(i.capitalize())"
   ]
  },
  {
   "cell_type": "code",
   "execution_count": 72,
   "id": "fbc11ac8-f1ed-469b-9a8e-9cede45ae3f2",
   "metadata": {},
   "outputs": [
    {
     "name": "stdout",
     "output_type": "stream",
     "text": [
      "python\n"
     ]
    }
   ],
   "source": [
    "#casefold\n",
    "text='pYtHoN'\n",
    "print(text.casefold())"
   ]
  },
  {
   "cell_type": "code",
   "execution_count": 73,
   "id": "2550ece3-a416-4a16-a841-35d30a1b272f",
   "metadata": {},
   "outputs": [
    {
     "name": "stdout",
     "output_type": "stream",
     "text": [
      "python is a easy to learn language\n"
     ]
    }
   ],
   "source": [
    "text1='PYTHON IS A EASY TO LEARN LANGUAGE'\n",
    "print(text1.casefold())"
   ]
  },
  {
   "cell_type": "code",
   "execution_count": 74,
   "id": "d843b14d-18ae-4876-9b86-53a39c16797e",
   "metadata": {},
   "outputs": [
    {
     "name": "stdout",
     "output_type": "stream",
     "text": [
      "2\n"
     ]
    }
   ],
   "source": [
    "#count\n",
    "string='hello how are you today'\n",
    "print(string.count('a'))"
   ]
  },
  {
   "cell_type": "code",
   "execution_count": 75,
   "id": "f48f4d00-8544-4b44-a647-0c69bc08c7d4",
   "metadata": {},
   "outputs": [
    {
     "name": "stdout",
     "output_type": "stream",
     "text": [
      "4\n"
     ]
    }
   ],
   "source": [
    "print(string.count('o'))"
   ]
  },
  {
   "cell_type": "code",
   "execution_count": 76,
   "id": "03e3aea6-192b-483f-98d5-eedef2db3888",
   "metadata": {},
   "outputs": [
    {
     "name": "stdout",
     "output_type": "stream",
     "text": [
      "2\n"
     ]
    }
   ],
   "source": [
    "print(string.count('h'))"
   ]
  },
  {
   "cell_type": "code",
   "execution_count": 77,
   "id": "6e6cf599-4cae-4e5b-81bf-69f6fd21b1e1",
   "metadata": {},
   "outputs": [
    {
     "name": "stdout",
     "output_type": "stream",
     "text": [
      "0\n"
     ]
    }
   ],
   "source": [
    "#find\n",
    "print(string.find('hello'))"
   ]
  },
  {
   "cell_type": "code",
   "execution_count": 78,
   "id": "4e3c653b-64f5-4553-bb89-3804b9e67825",
   "metadata": {},
   "outputs": [
    {
     "data": {
      "text/plain": [
       "'python is a dynamic programming language'"
      ]
     },
     "execution_count": 78,
     "metadata": {},
     "output_type": "execute_result"
    }
   ],
   "source": [
    "#isupper\n",
    "string1='python is a dynamic programming language'\n",
    "string1"
   ]
  },
  {
   "cell_type": "code",
   "execution_count": 79,
   "id": "7bada624-6d09-4989-9125-53b61c32b5ab",
   "metadata": {},
   "outputs": [
    {
     "name": "stdout",
     "output_type": "stream",
     "text": [
      "False\n"
     ]
    }
   ],
   "source": [
    "print(string1.isupper())      #it returns true if all the characters are present in upper case"
   ]
  },
  {
   "cell_type": "code",
   "execution_count": 80,
   "id": "5bc70f9d-9446-457c-953b-bea05e1ac294",
   "metadata": {},
   "outputs": [
    {
     "name": "stdout",
     "output_type": "stream",
     "text": [
      "True\n"
     ]
    }
   ],
   "source": [
    "print(string1.islower())      #it returns true if all the characters are present in lower case"
   ]
  },
  {
   "cell_type": "code",
   "execution_count": 81,
   "id": "20164d85-e1fa-4fc6-883b-79f1e85e58f3",
   "metadata": {},
   "outputs": [
    {
     "data": {
      "text/plain": [
       "'   this is python language'"
      ]
     },
     "execution_count": 81,
     "metadata": {},
     "output_type": "execute_result"
    }
   ],
   "source": [
    "t='   this is python language'\n",
    "t"
   ]
  },
  {
   "cell_type": "code",
   "execution_count": 82,
   "id": "46ea6205-3e08-405c-a741-5aa0f8be238a",
   "metadata": {},
   "outputs": [
    {
     "data": {
      "text/plain": [
       "'this is python language'"
      ]
     },
     "execution_count": 82,
     "metadata": {},
     "output_type": "execute_result"
    }
   ],
   "source": [
    "t.lstrip()    #removes whitespaces from left side"
   ]
  },
  {
   "cell_type": "code",
   "execution_count": 83,
   "id": "2901b895-81e5-4a9f-b7c0-6df8fd7db978",
   "metadata": {},
   "outputs": [
    {
     "data": {
      "text/plain": [
       "'   this is python language'"
      ]
     },
     "execution_count": 83,
     "metadata": {},
     "output_type": "execute_result"
    }
   ],
   "source": [
    "t.rstrip()     #removes whitespaces from right side"
   ]
  },
  {
   "cell_type": "code",
   "execution_count": 84,
   "id": "ffd4593c-ddb8-46ba-896c-643ce4cfbb3b",
   "metadata": {},
   "outputs": [
    {
     "data": {
      "text/plain": [
       "'python is easy to learn'"
      ]
     },
     "execution_count": 84,
     "metadata": {},
     "output_type": "execute_result"
    }
   ],
   "source": [
    "t1='python is easy to learn'\n",
    "t1"
   ]
  },
  {
   "cell_type": "code",
   "execution_count": 85,
   "id": "d1552448-b25e-4cd5-95c2-7b8b73b506fb",
   "metadata": {},
   "outputs": [
    {
     "data": {
      "text/plain": [
       "'PYTHON IS EASY TO LEARN'"
      ]
     },
     "execution_count": 85,
     "metadata": {},
     "output_type": "execute_result"
    }
   ],
   "source": [
    "t1.upper()   #converts all the characters into upper case"
   ]
  },
  {
   "cell_type": "code",
   "execution_count": 86,
   "id": "e025761d-65cc-4cd6-afa5-468df71da23e",
   "metadata": {},
   "outputs": [
    {
     "data": {
      "text/plain": [
       "'python is easy to learn'"
      ]
     },
     "execution_count": 86,
     "metadata": {},
     "output_type": "execute_result"
    }
   ],
   "source": [
    "t1.lower()   #converts all the characters into lower case"
   ]
  },
  {
   "cell_type": "code",
   "execution_count": 87,
   "id": "37df0efb-9d2e-417c-b918-f915b5b4b9a4",
   "metadata": {},
   "outputs": [
    {
     "data": {
      "text/plain": [
       "True"
      ]
     },
     "execution_count": 87,
     "metadata": {},
     "output_type": "execute_result"
    }
   ],
   "source": [
    "t1.startswith('p')     #returns true if the character starts with 'p'"
   ]
  },
  {
   "cell_type": "code",
   "execution_count": 88,
   "id": "8aa1123f-2ead-4893-9a63-c449787523cb",
   "metadata": {},
   "outputs": [
    {
     "data": {
      "text/plain": [
       "True"
      ]
     },
     "execution_count": 88,
     "metadata": {},
     "output_type": "execute_result"
    }
   ],
   "source": [
    "t1.endswith('n')       #returns true if the character ends wiith 'n'"
   ]
  },
  {
   "cell_type": "code",
   "execution_count": 91,
   "id": "ec32eb03-4f9b-4ed6-9f05-5ba0ed0e930e",
   "metadata": {},
   "outputs": [
    {
     "name": "stdout",
     "output_type": "stream",
     "text": [
      "True\n"
     ]
    }
   ],
   "source": [
    "t2='pythonthirtydayschallenge'\n",
    "t2\n",
    "print(t2.isalpha())          #returns true if all the characters in the string are alphabets"
   ]
  },
  {
   "cell_type": "markdown",
   "id": "127baaaa-6b08-4c6f-ab5c-0d4eb71f63cc",
   "metadata": {},
   "source": [
    "# Typecasting"
   ]
  },
  {
   "cell_type": "code",
   "execution_count": 105,
   "id": "35faaaa5-c02a-42d4-bc0a-985a99f9646e",
   "metadata": {},
   "outputs": [
    {
     "name": "stderr",
     "output_type": "stream",
     "text": [
      "<>:1: SyntaxWarning: invalid decimal literal\n",
      "<>:1: SyntaxWarning: invalid decimal literal\n",
      "C:\\Users\\junai\\AppData\\Local\\Temp\\ipykernel_17232\\1913944263.py:1: SyntaxWarning: invalid decimal literal\n",
      "  9int(2.5) #float to int conversion\n"
     ]
    },
    {
     "ename": "SyntaxError",
     "evalue": "invalid syntax (1913944263.py, line 1)",
     "output_type": "error",
     "traceback": [
      "\u001b[1;36m  Cell \u001b[1;32mIn[105], line 1\u001b[1;36m\u001b[0m\n\u001b[1;33m    9int(2.5) #float to int conversion\u001b[0m\n\u001b[1;37m     ^\u001b[0m\n\u001b[1;31mSyntaxError\u001b[0m\u001b[1;31m:\u001b[0m invalid syntax\n"
     ]
    }
   ],
   "source": [
    "9int(2.5) #float to int conversion"
   ]
  },
  {
   "cell_type": "code",
   "execution_count": 107,
   "id": "3f4a5283-2d83-441f-95f9-3829ec15c7b1",
   "metadata": {},
   "outputs": [
    {
     "data": {
      "text/plain": [
       "1"
      ]
     },
     "execution_count": 107,
     "metadata": {},
     "output_type": "execute_result"
    }
   ],
   "source": [
    "int(True) #bool to int conversion"
   ]
  },
  {
   "cell_type": "code",
   "execution_count": 108,
   "id": "e9b190e1-af90-495a-98c8-c6140a5f3aa9",
   "metadata": {},
   "outputs": [
    {
     "ename": "TypeError",
     "evalue": "int() argument must be a string, a bytes-like object or a real number, not 'complex'",
     "output_type": "error",
     "traceback": [
      "\u001b[1;31m---------------------------------------------------------------------------\u001b[0m",
      "\u001b[1;31mTypeError\u001b[0m                                 Traceback (most recent call last)",
      "Cell \u001b[1;32mIn[108], line 1\u001b[0m\n\u001b[1;32m----> 1\u001b[0m \u001b[38;5;28;43mint\u001b[39;49m\u001b[43m(\u001b[49m\u001b[38;5;241;43m1\u001b[39;49m\u001b[38;5;241;43m+\u001b[39;49m\u001b[38;5;241;43m2\u001b[39;49m\u001b[43mj\u001b[49m\u001b[43m)\u001b[49m \u001b[38;5;66;03m#cannot convert complex to int\u001b[39;00m\n",
      "\u001b[1;31mTypeError\u001b[0m: int() argument must be a string, a bytes-like object or a real number, not 'complex'"
     ]
    }
   ],
   "source": [
    "int(1+2j) #cannot convert complex to int"
   ]
  },
  {
   "cell_type": "code",
   "execution_count": 109,
   "id": "c3d7ff8a-4aeb-4b40-b37d-163e857b0bc4",
   "metadata": {},
   "outputs": [
    {
     "data": {
      "text/plain": [
       "10"
      ]
     },
     "execution_count": 109,
     "metadata": {},
     "output_type": "execute_result"
    }
   ],
   "source": [
    "int('10') #string to int conversion"
   ]
  },
  {
   "cell_type": "code",
   "execution_count": 110,
   "id": "bf7db2db-e7e4-405c-853b-4b0cdccee160",
   "metadata": {},
   "outputs": [
    {
     "data": {
      "text/plain": [
       "100.0"
      ]
     },
     "execution_count": 110,
     "metadata": {},
     "output_type": "execute_result"
    }
   ],
   "source": [
    "float(100) #float to int conversion"
   ]
  },
  {
   "cell_type": "code",
   "execution_count": 111,
   "id": "0db1fa5b-62b6-44f1-88c7-8c96e0965ba6",
   "metadata": {},
   "outputs": [
    {
     "data": {
      "text/plain": [
       "0.0"
      ]
     },
     "execution_count": 111,
     "metadata": {},
     "output_type": "execute_result"
    }
   ],
   "source": [
    "float(False) #float to bool conversion"
   ]
  },
  {
   "cell_type": "code",
   "execution_count": 112,
   "id": "4e9fd8d5-7984-4dea-ab88-a21c24f5a359",
   "metadata": {},
   "outputs": [
    {
     "ename": "TypeError",
     "evalue": "float() argument must be a string or a real number, not 'complex'",
     "output_type": "error",
     "traceback": [
      "\u001b[1;31m---------------------------------------------------------------------------\u001b[0m",
      "\u001b[1;31mTypeError\u001b[0m                                 Traceback (most recent call last)",
      "Cell \u001b[1;32mIn[112], line 1\u001b[0m\n\u001b[1;32m----> 1\u001b[0m \u001b[38;5;28;43mfloat\u001b[39;49m\u001b[43m(\u001b[49m\u001b[38;5;241;43m1\u001b[39;49m\u001b[38;5;241;43m+\u001b[39;49m\u001b[38;5;241;43m2\u001b[39;49m\u001b[43mj\u001b[49m\u001b[43m)\u001b[49m \u001b[38;5;66;03m#float to complex conversion\u001b[39;00m\n",
      "\u001b[1;31mTypeError\u001b[0m: float() argument must be a string or a real number, not 'complex'"
     ]
    }
   ],
   "source": [
    "float(1+2j) #float to complex conversion"
   ]
  },
  {
   "cell_type": "code",
   "execution_count": 113,
   "id": "91306047-5b2e-4e22-88c4-a07ebbd42958",
   "metadata": {},
   "outputs": [
    {
     "data": {
      "text/plain": [
       "100.0"
      ]
     },
     "execution_count": 113,
     "metadata": {},
     "output_type": "execute_result"
    }
   ],
   "source": [
    "float('100') #float to string conversion"
   ]
  },
  {
   "cell_type": "code",
   "execution_count": 114,
   "id": "d5971540-9e74-4ecc-91a0-96ccdd33d5d6",
   "metadata": {},
   "outputs": [
    {
     "ename": "TypeError",
     "evalue": "'float' object cannot be interpreted as an integer",
     "output_type": "error",
     "traceback": [
      "\u001b[1;31m---------------------------------------------------------------------------\u001b[0m",
      "\u001b[1;31mTypeError\u001b[0m                                 Traceback (most recent call last)",
      "Cell \u001b[1;32mIn[114], line 1\u001b[0m\n\u001b[1;32m----> 1\u001b[0m \u001b[38;5;28;43mint\u001b[39;49m\u001b[43m(\u001b[49m\u001b[38;5;241;43m10.2\u001b[39;49m\u001b[43m,\u001b[49m\u001b[38;5;241;43m20.4\u001b[39;49m\u001b[43m)\u001b[49m\n",
      "\u001b[1;31mTypeError\u001b[0m: 'float' object cannot be interpreted as an integer"
     ]
    }
   ],
   "source": [
    "int(10.2,20.4)"
   ]
  },
  {
   "cell_type": "code",
   "execution_count": 115,
   "id": "b293605c-ca88-4866-802f-c8990b131dca",
   "metadata": {},
   "outputs": [
    {
     "data": {
      "text/plain": [
       "(1+0j)"
      ]
     },
     "execution_count": 115,
     "metadata": {},
     "output_type": "execute_result"
    }
   ],
   "source": [
    "complex(1) #complex to int type conversion"
   ]
  },
  {
   "cell_type": "code",
   "execution_count": 116,
   "id": "12d9d070-72b9-4e42-a55a-9c02232d6864",
   "metadata": {},
   "outputs": [
    {
     "data": {
      "text/plain": [
       "(1+2j)"
      ]
     },
     "execution_count": 116,
     "metadata": {},
     "output_type": "execute_result"
    }
   ],
   "source": [
    "complex(1,2) #complex to int type conversion"
   ]
  },
  {
   "cell_type": "code",
   "execution_count": 117,
   "id": "a8caffac-5c28-42ab-92ee-56199b97e4a9",
   "metadata": {},
   "outputs": [
    {
     "data": {
      "text/plain": [
       "(2.3+10j)"
      ]
     },
     "execution_count": 117,
     "metadata": {},
     "output_type": "execute_result"
    }
   ],
   "source": [
    "complex(2.3,10)  #complex to float type conversion"
   ]
  },
  {
   "cell_type": "code",
   "execution_count": 118,
   "id": "b150df35-ce44-429a-9c30-79f00284e293",
   "metadata": {},
   "outputs": [
    {
     "data": {
      "text/plain": [
       "(1+0j)"
      ]
     },
     "execution_count": 118,
     "metadata": {},
     "output_type": "execute_result"
    }
   ],
   "source": [
    "complex(True,False) #complex to bool type conversion"
   ]
  },
  {
   "cell_type": "code",
   "execution_count": 119,
   "id": "55e9753e-c591-44fe-834a-b575b5db2475",
   "metadata": {},
   "outputs": [
    {
     "data": {
      "text/plain": [
       "1j"
      ]
     },
     "execution_count": 119,
     "metadata": {},
     "output_type": "execute_result"
    }
   ],
   "source": [
    "complex(False,True)   #complex to bool type conversion"
   ]
  },
  {
   "cell_type": "code",
   "execution_count": 120,
   "id": "6360d8e9-46ec-4c02-9b83-3f27725fa442",
   "metadata": {},
   "outputs": [
    {
     "data": {
      "text/plain": [
       "(10+0j)"
      ]
     },
     "execution_count": 120,
     "metadata": {},
     "output_type": "execute_result"
    }
   ],
   "source": [
    "complex('10')   #complex to string type conversion"
   ]
  },
  {
   "cell_type": "code",
   "execution_count": 121,
   "id": "07660d49-0bd4-4d44-a146-15d55bd8e2c8",
   "metadata": {},
   "outputs": [
    {
     "data": {
      "text/plain": [
       "'10'"
      ]
     },
     "execution_count": 121,
     "metadata": {},
     "output_type": "execute_result"
    }
   ],
   "source": [
    "str(10)      #string to int type conversion"
   ]
  },
  {
   "cell_type": "code",
   "execution_count": 122,
   "id": "03a27880-ede4-4e5f-9162-c1821eb8dc55",
   "metadata": {},
   "outputs": [
    {
     "data": {
      "text/plain": [
       "'10.3'"
      ]
     },
     "execution_count": 122,
     "metadata": {},
     "output_type": "execute_result"
    }
   ],
   "source": [
    "str(10.3)    #string to float type conversion"
   ]
  },
  {
   "cell_type": "code",
   "execution_count": 123,
   "id": "38b2340a-a37d-474c-a502-cc11159db306",
   "metadata": {},
   "outputs": [
    {
     "data": {
      "text/plain": [
       "'True'"
      ]
     },
     "execution_count": 123,
     "metadata": {},
     "output_type": "execute_result"
    }
   ],
   "source": [
    "str(True)    #string to bool type conversion"
   ]
  },
  {
   "cell_type": "code",
   "execution_count": 124,
   "id": "098dc82b-828f-49d5-909d-3ace1ef0cab7",
   "metadata": {},
   "outputs": [
    {
     "data": {
      "text/plain": [
       "'(1+2j)'"
      ]
     },
     "execution_count": 124,
     "metadata": {},
     "output_type": "execute_result"
    }
   ],
   "source": [
    "str(1+2j)   #string to complex type conversion"
   ]
  },
  {
   "cell_type": "code",
   "execution_count": 125,
   "id": "8b4f7a80-8894-497e-a67d-471f4f347399",
   "metadata": {},
   "outputs": [
    {
     "data": {
      "text/plain": [
       "True"
      ]
     },
     "execution_count": 125,
     "metadata": {},
     "output_type": "execute_result"
    }
   ],
   "source": [
    "bool(10)   #bool to int type conversion"
   ]
  },
  {
   "cell_type": "code",
   "execution_count": 126,
   "id": "1b045c5a-dbf5-4f9a-8325-61b364bfc649",
   "metadata": {},
   "outputs": [
    {
     "data": {
      "text/plain": [
       "True"
      ]
     },
     "execution_count": 126,
     "metadata": {},
     "output_type": "execute_result"
    }
   ],
   "source": [
    "bool(20.6) #bool to float type conversion"
   ]
  },
  {
   "cell_type": "code",
   "execution_count": 127,
   "id": "ec51c6d5-9553-417a-9809-8db2a7d80514",
   "metadata": {},
   "outputs": [
    {
     "data": {
      "text/plain": [
       "False"
      ]
     },
     "execution_count": 127,
     "metadata": {},
     "output_type": "execute_result"
    }
   ],
   "source": [
    "bool(0) "
   ]
  },
  {
   "cell_type": "code",
   "execution_count": 128,
   "id": "73b8b216-c484-4ce1-890a-354c0b3ef9a6",
   "metadata": {},
   "outputs": [
    {
     "data": {
      "text/plain": [
       "True"
      ]
     },
     "execution_count": 128,
     "metadata": {},
     "output_type": "execute_result"
    }
   ],
   "source": [
    "bool(1+2j)  #bool to complex type conversion"
   ]
  },
  {
   "cell_type": "code",
   "execution_count": 129,
   "id": "a4a08582-5010-4a53-89c5-542367685390",
   "metadata": {},
   "outputs": [
    {
     "data": {
      "text/plain": [
       "True"
      ]
     },
     "execution_count": 129,
     "metadata": {},
     "output_type": "execute_result"
    }
   ],
   "source": [
    "bool('Python')  #bool to string type conversion"
   ]
  },
  {
   "cell_type": "markdown",
   "id": "16e8ab64-0488-48ca-87ad-90310b6dbe4e",
   "metadata": {},
   "source": [
    "# Operators\n",
    "- Arithmetic operators\n",
    "- Assignment operators\n",
    "- Logical operators\n",
    "- Comparison Operators\n",
    "- identity operators"
   ]
  },
  {
   "cell_type": "code",
   "execution_count": 130,
   "id": "2831ddae-98c5-4a4f-8658-dbfe79cab74e",
   "metadata": {},
   "outputs": [
    {
     "name": "stdout",
     "output_type": "stream",
     "text": [
      "15\n",
      "-3\n",
      "54\n",
      "0.6666666666666666\n",
      "6\n",
      "10077696\n",
      "0\n"
     ]
    }
   ],
   "source": [
    "#arithmetic operators\n",
    "x=6\n",
    "y=9\n",
    "print(x+y)\n",
    "print(x-y)\n",
    "print(x*y)\n",
    "print(x/y)\n",
    "print(x%y)\n",
    "print(x**y)\n",
    "print(x//y)"
   ]
  },
  {
   "cell_type": "code",
   "execution_count": 135,
   "id": "defd57ed-ca2a-4cd4-8198-3cbfd744680e",
   "metadata": {},
   "outputs": [
    {
     "name": "stdout",
     "output_type": "stream",
     "text": [
      "30\n",
      "10\n",
      "200\n",
      "2.0\n",
      "2\n",
      "0\n"
     ]
    }
   ],
   "source": [
    "#assignment operators\n",
    "a=20\n",
    "print(a+10)\n",
    "print(a-10)\n",
    "print(a*10)\n",
    "print(a/10)\n",
    "print(a//10)\n",
    "print(a%10)"
   ]
  },
  {
   "cell_type": "code",
   "execution_count": 141,
   "id": "24bee542-a89b-4386-b5ea-7fc935dfbad5",
   "metadata": {},
   "outputs": [
    {
     "name": "stdout",
     "output_type": "stream",
     "text": [
      "False\n",
      "False\n"
     ]
    },
    {
     "data": {
      "text/plain": [
       "True"
      ]
     },
     "execution_count": 141,
     "metadata": {},
     "output_type": "execute_result"
    }
   ],
   "source": [
    "#logical operators\n",
    "x=100\n",
    "y=200\n",
    "print(x>y and y<x)\n",
    "print(x>y or y<x)\n",
    "not(x>y and y<x)"
   ]
  },
  {
   "cell_type": "code",
   "execution_count": 142,
   "id": "0a05a8d6-85ec-4413-af1f-fdd544108938",
   "metadata": {},
   "outputs": [
    {
     "name": "stdout",
     "output_type": "stream",
     "text": [
      "False\n",
      "True\n",
      "False\n",
      "False\n",
      "True\n",
      "True\n"
     ]
    }
   ],
   "source": [
    "#comparison operators\n",
    "p=30\n",
    "q=50\n",
    "print(p==q)\n",
    "print(p!=q)\n",
    "print(p>q)\n",
    "print(p>=q)\n",
    "print(p<q)\n",
    "print(p<=q)"
   ]
  },
  {
   "cell_type": "code",
   "execution_count": 143,
   "id": "be317c59-5175-41bb-aff4-8c54dadc1453",
   "metadata": {},
   "outputs": [
    {
     "name": "stdout",
     "output_type": "stream",
     "text": [
      "False\n",
      "True\n"
     ]
    }
   ],
   "source": [
    "#identity operators\n",
    "r=25\n",
    "s=45\n",
    "print(r is s)\n",
    "print(r is not s)"
   ]
  }
 ],
 "metadata": {
  "kernelspec": {
   "display_name": "Python 3 (ipykernel)",
   "language": "python",
   "name": "python3"
  },
  "language_info": {
   "codemirror_mode": {
    "name": "ipython",
    "version": 3
   },
   "file_extension": ".py",
   "mimetype": "text/x-python",
   "name": "python",
   "nbconvert_exporter": "python",
   "pygments_lexer": "ipython3",
   "version": "3.12.2"
  }
 },
 "nbformat": 4,
 "nbformat_minor": 5
}
